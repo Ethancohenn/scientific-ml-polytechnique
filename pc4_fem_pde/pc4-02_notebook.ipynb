{
 "cells": [
  {
   "cell_type": "markdown",
   "id": "e072331c",
   "metadata": {
    "lines_to_next_cell": 2
   },
   "source": [
    "<div style=\"text-align: center;\">\n",
    "<strong>Machine Learning for Scientific Computing and Numerical Analysis - PC 4</strong>\n",
    "</div>\n",
    "<div style=\"text-align: center;\">\n",
    "<strong>Finite element method for elliptic problems</strong>\n",
    "</div>\n",
    "<div style=\"text-align: center;\">\n",
    "<p>Loïc Gouarin, Samuel Kokh, Hadrien Montanelli</p>\n",
    "</div>\n",
    "<div style=\"text-align: center;\">\n",
    "<i>2024 - 2025</i>\n",
    "</div>"
   ]
  },
  {
   "cell_type": "markdown",
   "id": "13c0a93a",
   "metadata": {},
   "source": [
    "In this notebook we will review the Finite Element Method (FEM) for approximating solutions of standard elliptic problems."
   ]
  },
  {
   "cell_type": "code",
   "execution_count": 1,
   "id": "6aa0cca2",
   "metadata": {},
   "outputs": [],
   "source": [
    "from math import pi\n",
    "import matplotlib.pyplot as plt\n",
    "import numpy as np    \n",
    "from numpy.linalg import inv, norm\n",
    "from scipy.linalg import eigvals, expm\n",
    "from scipy.sparse import diags, eye\n",
    "from scipy.sparse.linalg import spsolve\n",
    "import time\n",
    "from helpers import elliptic_reference_solution\n",
    "\n",
    "np.random.seed(42)"
   ]
  },
  {
   "cell_type": "markdown",
   "id": "1d845371",
   "metadata": {},
   "source": [
    "# 1 Introduction"
   ]
  },
  {
   "cell_type": "markdown",
   "id": "05d77725",
   "metadata": {},
   "source": [
    "Before going any further, we need to implement the shape function and basis functions of the pc4-01-P1-approximation notebook."
   ]
  },
  {
   "cell_type": "markdown",
   "id": "5fea0e57",
   "metadata": {},
   "source": [
    "### Exercise"
   ]
  },
  {
   "cell_type": "markdown",
   "id": "3161d5e2",
   "metadata": {},
   "source": [
    "{exercise}\n",
    "Copy/paste the functions you defined in pc4_01."
   ]
  },
  {
   "cell_type": "code",
   "execution_count": 2,
   "id": "9ef825b4",
   "metadata": {},
   "outputs": [],
   "source": [
    "# Shape function and basis functions:\n",
    "phi = lambda x: np.where(np.abs(x) <= 1, 1 - np.abs(x), 0)\n",
    "Phi = lambda j, x: phi((x - xx[j])/h)"
   ]
  },
  {
   "cell_type": "markdown",
   "id": "062dc198",
   "metadata": {},
   "source": [
    "# 2 Poisson equation with homogeneous Dirichlet boundary conditions"
   ]
  },
  {
   "cell_type": "markdown",
   "id": "ec6f74c4",
   "metadata": {},
   "source": [
    "We consider the one-dimensional Poisson equation with homogeneous Dirichlet boundary conditions:\n",
    "\n",
    "\\begin{align}\n",
    "-u''(x) &= f(x) && \\text{in } \\Omega = (-1,1),\\\\\n",
    "u(-1) &= u(1) = 0.\n",
    "\\end{align}\n",
    "\n",
    "The variational formulation of the problem is to find $u\\in V=\\{v\\in H^1(-1,1),\\,v(\\pm1)=0\\}$ such that\n",
    "\n",
    "$$\n",
    "\\int_{\\Omega} u'(x)v'(x)dx = \\int_{\\Omega} f(x)v(x)dx,\n",
    "$$\n",
    "\n",
    "for all $v\\in V$.\n",
    "\n",
    "We discretize the interval $[-1,1]$ using a set of $m+2$ points \n",
    "$$\n",
    "x_j = -1 + jh, \\qquad h = 2/(m+1),\\qquad j=0,\\ldots,m+1,\n",
    "$$ \n",
    "which provides associate basis functions $x\\mapsto\\phi_j(x)$, $j=1,\\ldots,m$.\n",
    "\n",
    "We seek a finite element approximation of $u$\n",
    "\n",
    "$$\n",
    "u_h(x)\n",
    "= \\sum_{j=1}^m u_j\\phi_j(x)\n",
    "$$\n",
    "that verifies the Galerkin variational problem\n",
    "\n",
    "$$\n",
    "\\int_{\\Omega} u_h'(x)\\phi_i'(x)  dx  \n",
    "=\n",
    "\\int_{\\Omega} f(x)\\phi_i(x) dx\n",
    "\\quad \\text{for all $i=1,\\ldots,m$}.\n",
    "$$\n",
    "\n",
    "By substituting the expression of $u_h$ into the weak formulation, we obtain the following linear system\n",
    "\n",
    "$$\n",
    "\\sum_{j=1}^{m} u_j\n",
    "\\int_{\\Omega} \\phi_i'(x)\\phi_j'(x)dx\n",
    "=\n",
    "\\int_{\\Omega} f(x)\\phi_i(x) dx\n",
    "\\quad \\text{for all $i=1,\\ldots,m$.}\n",
    "$$ \n",
    "\n",
    "We set\n",
    "$$\n",
    "A_{ij} = \\int_{\\Omega} \\phi_i'(x)\\phi_j'(x)dx,\n",
    "\\quad \\text{and} \\quad\n",
    "F_i = \\int_{\\Omega} f(x)\\phi_i(x)dx.\n",
    "$$\n",
    "Then the linear system can be written as\n",
    "$$\n",
    "A U = F,\n",
    "$$\n",
    "where \n",
    "$$\n",
    "U = (u_1,\\ldots,u_m)^T,\n",
    "\\quad F = (F_1,\\ldots,F_m)^T,\n",
    "\\quad A= (A_{ij})_{1\\leq i,j \\leq m}\n",
    ".\n",
    "$$\n",
    "\n",
    "Let $T$ be the $m\\times m$ tridiagonal matrix defined by $T_{i,i+1} = T_{i+1,i} = 1$ for $i=1,\\ldots,m-1$ and $T_{i,j} = 0$ otherwise:\n",
    "\n",
    "$$\n",
    "T =\n",
    "\\begin{pmatrix}\n",
    "0 & 1 & 0 & \\cdots & 0\\\\\n",
    "1 & 0 & 1 & \\ddots & \\vdots\\\\\n",
    "0 & \\ddots & \\ddots & \\ddots & 0\\\\\n",
    "\\vdots & \\ddots & 1 & 0 & 1\\\\\n",
    "0 & \\cdots & 0 & 1 & 0\\\\\n",
    "\\end{pmatrix}.\n",
    "$$\n",
    "\n",
    "Then the matrices A can be expressed as\n",
    "$$\n",
    "A =\\frac{1}{h}\n",
    "\\left(\n",
    "2 I - T\n",
    "\\right)\n",
    ".\n",
    "$$\n",
    "\n",
    "In order to solve the linear system $AU = F$, we need to evaluate the right-hand side $F$. We propose to\n",
    "use the following approximation\n",
    "$$\n",
    "F_i = \n",
    "\\int_{\\Omega} f(x) \\phi_i(x) dx \\approx\n",
    "\\int_{\\Omega} \\sum_{j=1}^{m} f(x_j) \\phi_j(x)\\phi_i(x) dx,\n",
    "$$\n",
    "which also reads\n",
    "$$\n",
    "F = M \\begin{pmatrix} f(x_1) \\\\ \\vdots \\\\ f(x_m) \\end{pmatrix}\n",
    ",\\quad\n",
    "M_{ij} = \\int_{\\Omega} \\phi_j(x)\\phi_i(x) dx,\n",
    "\\quad\n",
    "M = (M_{ij})_{1\\leq i,j \\leq m}.\n",
    "$$\n",
    "\n",
    "The matrix $M$ can also be expressed thanks to $T$\n",
    "\n",
    "$$\n",
    "M =\n",
    "\\frac{h}{3}\n",
    "\\left(\n",
    "2I + \\frac{1}{2}T\n",
    "\\right)\n",
    ".\n",
    "$$"
   ]
  },
  {
   "cell_type": "markdown",
   "id": "c69595df",
   "metadata": {},
   "source": [
    "## 2.1 Assembling matrices"
   ]
  },
  {
   "cell_type": "markdown",
   "id": "57adf64e",
   "metadata": {
    "lines_to_next_cell": 0
   },
   "source": [
    "### Exercise\n",
    "\n",
    "{exercise}\n",
    "Assemble the matrix A and M."
   ]
  },
  {
   "cell_type": "code",
   "execution_count": 3,
   "id": "3153f2c1",
   "metadata": {
    "lines_to_next_cell": 1
   },
   "outputs": [],
   "source": [
    "def assemble_matrices(m, h):\n",
    "    T = diags([1] * (m - 1), offsets=1) + diags([1] * (m - 1), offsets=-1)\n",
    "    A=1/h*(2*eye(m)-T)\n",
    "    M=h/3*(2*eye(m)+1/2*T)\n",
    "    # assemble the matrices A and M\n",
    "    # hints: use the diag() and eye() functions from scipy.sparse \n",
    "    return A, M"
   ]
  },
  {
   "cell_type": "markdown",
   "id": "694bbd07",
   "metadata": {},
   "source": [
    "### Validation"
   ]
  },
  {
   "cell_type": "code",
   "execution_count": 4,
   "id": "9cd93404",
   "metadata": {},
   "outputs": [
    {
     "name": "stdout",
     "output_type": "stream",
     "text": [
      "[[11.  -5.5  0.   0.   0.   0.   0.   0.   0.   0. ]\n",
      " [-5.5 11.  -5.5  0.   0.   0.   0.   0.   0.   0. ]\n",
      " [ 0.  -5.5 11.  -5.5  0.   0.   0.   0.   0.   0. ]\n",
      " [ 0.   0.  -5.5 11.  -5.5  0.   0.   0.   0.   0. ]\n",
      " [ 0.   0.   0.  -5.5 11.  -5.5  0.   0.   0.   0. ]\n",
      " [ 0.   0.   0.   0.  -5.5 11.  -5.5  0.   0.   0. ]\n",
      " [ 0.   0.   0.   0.   0.  -5.5 11.  -5.5  0.   0. ]\n",
      " [ 0.   0.   0.   0.   0.   0.  -5.5 11.  -5.5  0. ]\n",
      " [ 0.   0.   0.   0.   0.   0.   0.  -5.5 11.  -5.5]\n",
      " [ 0.   0.   0.   0.   0.   0.   0.   0.  -5.5 11. ]]\n",
      "[[0.12121212 0.03030303 0.         0.         0.         0.\n",
      "  0.         0.         0.         0.        ]\n",
      " [0.03030303 0.12121212 0.03030303 0.         0.         0.\n",
      "  0.         0.         0.         0.        ]\n",
      " [0.         0.03030303 0.12121212 0.03030303 0.         0.\n",
      "  0.         0.         0.         0.        ]\n",
      " [0.         0.         0.03030303 0.12121212 0.03030303 0.\n",
      "  0.         0.         0.         0.        ]\n",
      " [0.         0.         0.         0.03030303 0.12121212 0.03030303\n",
      "  0.         0.         0.         0.        ]\n",
      " [0.         0.         0.         0.         0.03030303 0.12121212\n",
      "  0.03030303 0.         0.         0.        ]\n",
      " [0.         0.         0.         0.         0.         0.03030303\n",
      "  0.12121212 0.03030303 0.         0.        ]\n",
      " [0.         0.         0.         0.         0.         0.\n",
      "  0.03030303 0.12121212 0.03030303 0.        ]\n",
      " [0.         0.         0.         0.         0.         0.\n",
      "  0.         0.03030303 0.12121212 0.03030303]\n",
      " [0.         0.         0.         0.         0.         0.\n",
      "  0.         0.         0.03030303 0.12121212]]\n"
     ]
    }
   ],
   "source": [
    "m = 10\n",
    "h = 2/(m + 1)\n",
    "A, M = assemble_matrices(m, h)\n",
    "print(A.todense()) # the first line reads : [11.  -5.5  0.   0.   0.   0.   0.   0.   0.   0. ]\n",
    "print(M.todense()) # the first line reads: [0.12121212 0.03030303 0.0 ... 0.0]"
   ]
  },
  {
   "cell_type": "markdown",
   "id": "161be9e2",
   "metadata": {},
   "source": [
    "## 2.2 Assembling the rhs"
   ]
  },
  {
   "cell_type": "markdown",
   "id": "1fac584c",
   "metadata": {},
   "source": [
    "### Exercise\n",
    "\n",
    "{exercise}\n",
    "Assemble the right-hand side of the linear system."
   ]
  },
  {
   "cell_type": "code",
   "execution_count": 5,
   "id": "fb3ebf33",
   "metadata": {
    "lines_to_next_cell": 0
   },
   "outputs": [],
   "source": [
    "def poisson_RHS(M, f, xx):\n",
    "    xx_2 = xx[1:-1]\n",
    "    return M @ f(xx_2)"
   ]
  },
  {
   "cell_type": "markdown",
   "id": "8ed85e87",
   "metadata": {},
   "source": [
    "### Validation"
   ]
  },
  {
   "cell_type": "code",
   "execution_count": 6,
   "id": "99fb9a93",
   "metadata": {
    "lines_to_next_cell": 1
   },
   "outputs": [
    {
     "name": "stdout",
     "output_type": "stream",
     "text": [
      "[ 5.25694316  4.36762623 -1.62818815 -5.72037383 -3.12447019  3.12447019\n",
      "  5.72037383  1.62818815 -4.36762623 -5.25694316]\n"
     ]
    }
   ],
   "source": [
    "nu = 1\n",
    "f = lambda x: (2*pi*nu)**2*np.sin(2*pi*nu*x)\n",
    "\n",
    "m = 10\n",
    "h = 2/(m + 1)\n",
    "xx = np.linspace(-1, 1, m + 2)\n",
    "A, M = assemble_matrices(m, h)\n",
    "\n",
    "RHS = poisson_RHS(M, f, xx)\n",
    "\n",
    "print(RHS) # the first resulting parameters should be  5.25694316  4.36762623 -1.62818815"
   ]
  },
  {
   "cell_type": "markdown",
   "id": "6745ffa4",
   "metadata": {},
   "source": [
    "## 2.3 Solving the linear system"
   ]
  },
  {
   "cell_type": "markdown",
   "id": "cd9418ab",
   "metadata": {},
   "source": [
    "The final setp is to solve $AU = F$."
   ]
  },
  {
   "cell_type": "markdown",
   "id": "4b81bec3",
   "metadata": {},
   "source": [
    "### Exercise\n",
    "\n",
    "{exercise}\n",
    "Assemble the matrices, the rhs, and solve the linear system in the following routine."
   ]
  },
  {
   "cell_type": "code",
   "execution_count": 8,
   "id": "a3a2c630",
   "metadata": {},
   "outputs": [],
   "source": [
    "def solve_poisson(m, f):\n",
    "    h = 2/(m + 1)\n",
    "    xx = np.linspace(-1, 1, m + 2) \n",
    "\n",
    "    start = time.time() \n",
    "    A, M = assemble_matrices(m, h)\n",
    "    F = poisson_RHS(M, f, xx)\n",
    "    end = time.time()\n",
    "    print(f'Time  (setup): {end-start:.5f}s')\n",
    " \n",
    "    start = time.time() \n",
    "    U = spsolve(A,F)\n",
    "    end = time.time()\n",
    "    print(f'Time  (solve): {end-start:.5f}s')\n",
    "    return U"
   ]
  },
  {
   "cell_type": "markdown",
   "id": "b7e69736",
   "metadata": {},
   "source": [
    "### Validation"
   ]
  },
  {
   "cell_type": "code",
   "execution_count": 9,
   "id": "60f10196",
   "metadata": {},
   "outputs": [
    {
     "name": "stdout",
     "output_type": "stream",
     "text": [
      "Time  (setup): 0.00505s\n",
      "Time  (solve): 0.01001s\n",
      "Error (L-inf): 3.22e-03\n"
     ]
    },
    {
     "data": {
      "image/png": "[encoded data removed]",
      "text/plain": [
       "<Figure size 640x480 with 1 Axes>"
      ]
     },
     "metadata": {},
     "output_type": "display_data"
    }
   ],
   "source": [
    "# Setup (problem):\n",
    "nu = 1\n",
    "f = lambda x: (2*pi*nu)**2*np.sin(2*pi*nu*x)\n",
    "\n",
    "# Setup (grid):\n",
    "xeval = np.linspace(-1, 1, 1000) # evaluation grid\n",
    "m = 100\n",
    "h = 2/(m + 1)\n",
    "xx = np.linspace(-1, 1, m + 2) # computation grid\n",
    "\n",
    "# Solve Poisson equation:\n",
    "U = solve_poisson(m, f)\n",
    "\n",
    "# Evalute the approximate solution on the evaluation grid:\n",
    "I, XEVAL = np.meshgrid(np.arange(1, m + 1), xeval)\n",
    "u = Phi(I, XEVAL) @ U\n",
    "\n",
    "# Compute exact solution:\n",
    "uex = lambda x: np.sin(2*pi*nu*x)\n",
    "\n",
    "# Compute the L-inf error:\n",
    "error = np.max(np.abs(uex(xeval) - u))/np.max(np.abs(uex(xeval)))\n",
    "print(f'Error (L-inf): {error:.2e}')\n",
    "\n",
    "# Plot:\n",
    "plt.figure()\n",
    "plt.grid()\n",
    "plt.xlabel(r\"$x$\")\n",
    "plt.plot(xeval, u, '*',label=r'$u_h$')\n",
    "plt.plot(xeval, uex(xeval), '-',label=r'$u_\\mathrm{exact}$');\n",
    "plt.legend();"
   ]
  },
  {
   "cell_type": "markdown",
   "id": "5171a4c7",
   "metadata": {},
   "source": [
    "# 3 Constant-coefficient elliptic problem with homogeneous Dirichlet boundary conditions"
   ]
  },
  {
   "cell_type": "markdown",
   "id": "8712ff46",
   "metadata": {},
   "source": [
    "Let $\\mu>0$. We consider the following one-dimensional ellipic problem with homogeneous Dirichlet boundary conditions.\n",
    "\\begin{align}\n",
    "-u''(x) + \\mu u(x) &= f(x) && \\text{in } \\Omega = (-1,1),\\\\\n",
    "u(-1) &= u(1) = 0.\n",
    "\\end{align}\n",
    "\n",
    "The variational formulation of the problem is to find $u\\in V$ such that\n",
    "$$\n",
    "\\int_{\\Omega} u'(x)v'(x)dx + \\int_{\\Omega} \\mu u(x)v(x)dx = \\int_{\\Omega} f(x)v(x)dx\n",
    "$$\n",
    "for all $v\\in V$.\n",
    "\n",
    "We seek a finite element approximation of $u$ of the form\n",
    "\n",
    "$$\n",
    "u_h(x)\n",
    "= \\sum_{j=1}^m u_j\\phi_j(x),\n",
    "$$\n",
    "which verifies the Galerkin variational problem\n",
    "\n",
    "$$\n",
    "\\int_{\\Omega} u_h'(x)\\phi_i'(x)  dx + \\int_{\\Omega} \\mu u_h(x) \\phi_i(x)dx  \n",
    "=\n",
    "\\int_{\\Omega} f(x)\\phi_i(x) dx\n",
    "\\quad \\text{for all $i=1,\\ldots,m$.}\n",
    "$$\n",
    "\n",
    "By substituting the expression of $u_h$ into the weak formulation, we obtain the following linear system\n",
    "\n",
    "$$\n",
    "\\sum_{j=1}^m u_j\n",
    "\\left(\n",
    "\\int_{\\Omega} \\phi_i'(x)\\phi_j'(x)dx\n",
    "+\n",
    "\\int_{\\Omega} \\mu \\phi_i(x)\\phi_j(x)dx\n",
    "\\right) \n",
    "=\n",
    "\\int_{\\Omega} f(x) \\phi_j(x)dx\n",
    "\\quad \\text{for all $i=1,\\ldots,m$.}\n",
    "$$ \n",
    "\n",
    "Using the matrices $A$ and $M$ above, we obtain\n",
    "$$\n",
    "(A + \\mu M) U = F,\n",
    "$$\n",
    "where have set once again\n",
    "$$\n",
    "U = (u_1,\\ldots,u_m)^T,\n",
    "\\quad F = (F_1,\\ldots,F_m)^T,\n",
    "$$\n",
    "with the same approximation for $F$, i.e.,\n",
    "$\n",
    "F = M \\begin{pmatrix} f(x_1) \\\\ \\vdots \\\\ f(x_m) \\end{pmatrix}.\n",
    "$"
   ]
  },
  {
   "cell_type": "markdown",
   "id": "84d60513",
   "metadata": {},
   "source": [
    "### Exercise\n",
    "\n",
    "{exercise}\n",
    "Implement the solver for this problem."
   ]
  },
  {
   "cell_type": "code",
   "execution_count": 10,
   "id": "24475215",
   "metadata": {},
   "outputs": [],
   "source": [
    "def solve_elliptic(m, f, mu):\n",
    "    h = 2/(m + 1)\n",
    "    xx = np.linspace(-1, 1, m + 2) \n",
    "\n",
    "    start = time.time() \n",
    "    A, M = assemble_matrices(m, h)\n",
    "    F = poisson_RHS(M, f, xx)\n",
    "    end = time.time()\n",
    "    print(f'Time  (setup): {end-start:.5f}s')\n",
    " \n",
    "    start = time.time() \n",
    "    U = spsolve(A+mu*M, F)\n",
    "    end = time.time()\n",
    "    print(f'Time  (solve): {end-start:.5f}s')\n",
    "    \n",
    "    return U"
   ]
  },
  {
   "cell_type": "markdown",
   "id": "4ed5cf78",
   "metadata": {},
   "source": [
    "### Validation"
   ]
  },
  {
   "cell_type": "code",
   "execution_count": 11,
   "id": "5b53a27e",
   "metadata": {},
   "outputs": [
    {
     "name": "stdout",
     "output_type": "stream",
     "text": [
      "Time  (setup): 0.00501s\n",
      "Time  (solve): 0.00399s\n",
      "Error (L-inf): 3.18e-03\n"
     ]
    },
    {
     "data": {
      "image/png": "[encoded data removed]",
      "text/plain": [
       "<Figure size 640x480 with 1 Axes>"
      ]
     },
     "metadata": {},
     "output_type": "display_data"
    }
   ],
   "source": [
    "# Setup (problem):\n",
    "mu = 1.3\n",
    "nu = 1\n",
    "B = 1.8\n",
    "f = lambda x: B*((2*pi*nu)**2 + mu)*np.sin(2*pi*nu*x)\n",
    "\n",
    "# Setup (grid):\n",
    "xeval = np.linspace(-1, 1, 1000) # evaluation grid\n",
    "m = 100\n",
    "h = 2/(m + 1)\n",
    "xx = np.linspace(-1, 1, m + 2) # computation grid\n",
    "\n",
    "# Solve the elliptic problem:\n",
    "U = solve_elliptic(m, f, mu)\n",
    "\n",
    "# Evalute the approximate solution on the evaluation grid:\n",
    "I, XEVAL = np.meshgrid(np.arange(1, m + 1), xeval)\n",
    "u = Phi(I, XEVAL) @ U\n",
    "\n",
    "# Compute exact solution:\n",
    "uex = lambda x: B*np.sin(2*pi*nu*x) # exact solution\n",
    "\n",
    "# Compute error:\n",
    "error = np.max(np.abs(uex(xeval) - u))/np.max(np.abs(uex(xeval)))\n",
    "print(f'Error (L-inf): {error:.2e}')\n",
    "\n",
    "# Plot:\n",
    "plt.figure()\n",
    "plt.grid()\n",
    "plt.xlabel(r\"$x$\")\n",
    "plt.plot(xeval, u, '*',label=r'$u_h$')\n",
    "plt.plot(xeval, uex(xeval), '-',label=r'$u_\\mathrm{exact}$');\n",
    "plt.legend();"
   ]
  }
 ],
 "metadata": {
  "jupytext": {
   "formats": "ipynb,py:percent"
  },
  "kernelspec": {
   "display_name": "Python 3",
   "language": "python",
   "name": "python3"
  },
  "language_info": {
   "codemirror_mode": {
    "name": "ipython",
    "version": 3
   },
   "file_extension": ".py",
   "mimetype": "text/x-python",
   "name": "python",
   "nbconvert_exporter": "python",
   "pygments_lexer": "ipython3",
   "version": "3.11.9"
  }
 },
 "nbformat": 4,
 "nbformat_minor": 5
}
