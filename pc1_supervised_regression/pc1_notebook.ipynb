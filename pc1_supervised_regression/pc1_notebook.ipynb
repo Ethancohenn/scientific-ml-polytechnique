{
 "cells": [
  {
   "cell_type": "markdown",
   "id": "52f29084",
   "metadata": {},
   "source": [
    "<div style=\"text-align: center;\">\n",
    "<strong>Machine Learning for Scientific Computing and Numerical Analysis - PC 1</strong>\n",
    "</div>\n",
    "<div style=\"text-align: center;\">\n",
    "<strong>Linear and nonlinear regression - 1</strong>\n",
    "</div>\n",
    "<div style=\"text-align: center;\">\n",
    "<p>Loïc Gouarin, Samuel Kokh, Hadrien Montanelli</p>\n",
    "</div>\n",
    "<div style=\"text-align: center;\">\n",
    "<i>2024 - 2025</i>\n",
    "</div>"
   ]
  },
  {
   "cell_type": "markdown",
   "id": "15dd0b6b",
   "metadata": {},
   "source": [
    "In this first PC, we will explore various regression methods using datasets that we generate ourselves. The goal is to understand how the characteristics of these datasets influence the solution to the supervised learning problem."
   ]
  },
  {
   "cell_type": "markdown",
   "id": "f70b9bc8",
   "metadata": {},
   "source": [
    "# Import the Python modules used"
   ]
  },
  {
   "cell_type": "code",
   "execution_count": 1,
   "id": "cb44eb15",
   "metadata": {
    "lines_to_next_cell": 2
   },
   "outputs": [],
   "source": [
    "import numpy as np\n",
    "import matplotlib.pyplot as plt\n",
    "from scipy.stats import multivariate_normal"
   ]
  },
  {
   "cell_type": "markdown",
   "id": "eb00095b",
   "metadata": {
    "lines_to_next_cell": 2
   },
   "source": [
    "# Datasets\n",
    "We will start by presenting several datasets that will be used throughout this notebook. You can add your own dataset by adding an entry in the following function."
   ]
  },
  {
   "cell_type": "code",
   "execution_count": 2,
   "id": "33d24db1",
   "metadata": {},
   "outputs": [],
   "source": [
    "def get_dataset(datatype, n, d, eta, random_gen=np.random.rand):\n",
    "    np.random.seed(42)\n",
    "    x = -1 + 2 * random_gen(n, d)\n",
    "    if datatype == \"linear\":\n",
    "        w_linear = np.ones(d)\n",
    "        y = x @ w_linear + eta * random_gen(n)\n",
    "    elif datatype == \"logist\":\n",
    "        w_logistic = 3 * np.ones(d)\n",
    "        y = 1 / (1 + np.exp(-x @ w_logistic)) + eta * random_gen(n)\n",
    "    elif datatype == \"sphere\":\n",
    "        y = np.linalg.norm(x, axis=1) + eta * random_gen(n)\n",
    "    elif datatype == \"normal\":\n",
    "        mean = np.zeros(d)\n",
    "        covariance = np.eye(d) / d\n",
    "        mvn = multivariate_normal(mean=mean, cov=covariance)\n",
    "        y = mvn.logpdf(x) + eta * random_gen(n)\n",
    "    y /= np.max(np.abs(y))\n",
    "    return x, y"
   ]
  },
  {
   "cell_type": "markdown",
   "id": "44ec4cd1",
   "metadata": {},
   "source": [
    "Let’s examine the data and observe how a random perturbation impacts its quality. To make it possible to visualize the solutions in 2D, we will assume for now that there is only one weight $w$ (i.e., dimension $d=1$). This will no longer be the case when we are interested in solving the problem."
   ]
  },
  {
   "cell_type": "code",
   "execution_count": 3,
   "id": "e659c21d",
   "metadata": {
    "lines_to_next_cell": 2,
    "scrolled": true
   },
   "outputs": [
    {
     "data": {
      "application/vnd.jupyter.widget-view+json": {
       "model_id": "9d416c53dba541dcbf4c849d81976659",
       "version_major": 2,
       "version_minor": 0
      },
      "text/plain": [
       "VBox(children=(Dropdown(description='Data set', options=('linear', 'logist', 'sphere', 'normal'), value='linea…"
      ]
     },
     "execution_count": 3,
     "metadata": {},
     "output_type": "execute_result"
    }
   ],
   "source": [
    "from plot_dataset import create_plot_dataset_container\n",
    "\n",
    "create_plot_dataset_container(get_dataset)"
   ]
  },
  {
   "cell_type": "markdown",
   "id": "d1da2801",
   "metadata": {},
   "source": [
    "# 1 Linear least squares\n",
    "\n",
    "As explained in the first lecture, we want to minimize\n",
    "\n",
    "$$\n",
    "\\Vert X\\bm{w} - \\bm{y}\\Vert_2^2,\n",
    "$$\n",
    "\n",
    "where the rows of $X$ represent one sample. Suppose we have $n$ samples and we try to find $d$ weights, then the $X$ matrix is of size $(n , d)$. The optimal weights are obtained by solving the normal equations\n",
    "\n",
    "$$\n",
    "X^TX\\bm{w} = X^T\\bm{y}.\n",
    "$$\n",
    "\n",
    "Various methods are available for solving this linear system (QR, SVD, iterative methods, ...). In the following, we will focus on the QR factorization $X=QR$, where $Q$ is an orthogonal matrix and $R$ is an upper-triangular matrix.\n",
    "\n",
    "The construction of $Q$ can be done using the Gram-Schmidt algorithm, which can be described as follows.\n",
    "\n",
    ":::{prf:algorithm} Gram-Schmidt\n",
    ":label: gram-schmidt\n",
    "\n",
    "**Input** A list of vectors $\\{v_1,v_2,\\cdots,v_d\\}$ corresponding to the columns of $X$.\n",
    "\n",
    "**Output** A list of orthonormal vectors $\\{q_1,q_2,\\cdots,q_d\\}$ correponsding to the columns of $Q$.\n",
    "\n",
    "**Steps**\n",
    "\n",
    "1. Initialize an empty matrix $Q$ to store the orthonormal vectors.\n",
    "2. For each vector $v_i$, $i=1,2,\\ldots,d$:\n",
    "   - Start with $q_i = v_i$.\n",
    "   - Subtract the projections of $q_i$ onto all previously computed orthogonal vectors $q_j$ (for $j=1,2,\\cdots,i−1)$.\n",
    "   - Normalize $q_i$ by dividing by its norm.\n",
    "3. Append each orthonormal vector $q_i$ to $Q$.\n",
    "4. Return the matrix $Q$ of orthonormal vectors.\n",
    "\n",
    "**Notes**\n",
    "\n",
    "- The projection of $v_i$ onto $q_j$ is calculated as $P_{q_j}(v_i)=(v_i^Tq_j)q_j$.\n",
    "\n",
    "- After orthogonalizing $v_i$, it can be normalized by dividing by its norm to get an orthonormal vector.\n",
    ":::\n"
   ]
  },
  {
   "cell_type": "markdown",
   "id": "1ddcc2fb",
   "metadata": {
    "lines_to_next_cell": 2
   },
   "source": [
    "In the next cell, we provide a partial implementation of the Gram-Schmidt algorithm, leaving out the projection step. *(Note: This simple implementation is numerically unstable and may perform poorly when the matrix is ill-conditioned. In such cases, a modified Gram-Schmidt algorithm should be used.)*"
   ]
  },
  {
   "cell_type": "code",
   "execution_count": 4,
   "id": "213eb8b9",
   "metadata": {},
   "outputs": [],
   "source": [
    "def gram_schmidt(A):\n",
    "    Q = np.empty_like(A)\n",
    "    for i in range(A.shape[1]):\n",
    "        q = np.copy(A[:, i])\n",
    "        for j in range(i):\n",
    "            q-=(Q[:, j].T @ A[:, i]) * Q[:, j]\n",
    "        q /= np.sqrt(q.T @ q)\n",
    "        Q[:, i] = q\n",
    "    return Q"
   ]
  },
  {
   "cell_type": "markdown",
   "id": "325dca35",
   "metadata": {},
   "source": [
    "```{exercise}\n",
    "Write the second step of the algorithm, specifically the part where you have *Part to code*. In other words: *Subtract the projections of $v_i$ onto all previously computed orthonormal vectors $q_j$ (for $j=1,2,\\cdots,i−1)$.*\n",
    "```\n",
    "\n",
    "```{exercise}\n",
    "Validate your algorithm using the following matrix\n",
    "\n",
    "$$\n",
    "A = \\left[\n",
    "\\begin{array}{ccc}\n",
    "1 & 1 & 1 \\\\\n",
    "-1 & 0 & 1 \\\\\n",
    "1 & 1 & 2\n",
    "\\end{array}\n",
    "\\right].\n",
    "$$\n",
    "\n",
    "You can use the `qr` method provided in `numpy.linalg` to check the result.\n",
    "```"
   ]
  },
  {
   "cell_type": "code",
   "execution_count": 5,
   "id": "f88cb067-abcb-40e6-bdb3-4b0fe5eb7912",
   "metadata": {},
   "outputs": [
    {
     "name": "stdout",
     "output_type": "stream",
     "text": [
      "[[ 0.57735027  0.40824829 -0.70710678]\n",
      " [-0.57735027  0.81649658  0.        ]\n",
      " [ 0.57735027  0.40824829  0.70710678]]\n",
      "[[-0.57735027 -0.40824829 -0.70710678]\n",
      " [ 0.57735027 -0.81649658  0.        ]\n",
      " [-0.57735027 -0.40824829  0.70710678]]\n"
     ]
    }
   ],
   "source": [
    "#exercice 2\n",
    "A = np.array([\n",
    "    [1, 1, 1],\n",
    "    [-1, 0, 1],\n",
    "    [1, 1, 2]\n",
    "], dtype=float)\n",
    "Q = gram_schmidt(A)\n",
    "Q2, R2 = np.linalg.qr(A)\n",
    "\n",
    "print(Q)\n",
    "print(Q2)"
   ]
  },
  {
   "cell_type": "markdown",
   "id": "50fa5298",
   "metadata": {},
   "source": [
    "```{exercise}\n",
    "Write a `QR_factorization` function, which outputs both $Q$ and $R$.\n",
    "```"
   ]
  },
  {
   "cell_type": "code",
   "execution_count": 6,
   "id": "2f727f40-5cf7-43e7-baec-919db3653093",
   "metadata": {},
   "outputs": [
    {
     "name": "stdout",
     "output_type": "stream",
     "text": [
      "QR_factorization fonction:\n",
      "Q:\n",
      "[[ 0.57735027  0.40824829 -0.70710678]\n",
      " [-0.57735027  0.81649658  0.        ]\n",
      " [ 0.57735027  0.40824829  0.70710678]]\n",
      "\n",
      "R :\n",
      "[[ 1.73205081e+00  1.15470054e+00  1.15470054e+00]\n",
      " [-6.66133815e-16  8.16496581e-01  2.04124145e+00]\n",
      " [ 1.11022302e-15  1.11022302e-15  7.07106781e-01]]\n",
      "\n",
      "NumPy Implementation:\n",
      "Q:\n",
      "[[-0.57735027 -0.40824829 -0.70710678]\n",
      " [ 0.57735027 -0.81649658  0.        ]\n",
      " [-0.57735027 -0.40824829  0.70710678]]\n",
      "\n",
      "R:\n",
      "[[-1.73205081 -1.15470054 -1.15470054]\n",
      " [ 0.         -0.81649658 -2.04124145]\n",
      " [ 0.          0.          0.70710678]]\n"
     ]
    }
   ],
   "source": [
    "#exercice 3\n",
    "def QR_factorization(A):\n",
    "    Q=gram_schmidt(A)\n",
    "    R=Q.T@A\n",
    "    return Q,R\n",
    "\n",
    "Q,R =  QR_factorization(A)\n",
    "Q2, R2 = np.linalg.qr(A)\n",
    "\n",
    "print(\"QR_factorization fonction:\")\n",
    "print(\"Q:\")\n",
    "print(Q)\n",
    "print(\"\\nR :\")\n",
    "print(R)\n",
    "\n",
    "print(\"\\nNumPy Implementation:\")\n",
    "print(\"Q:\")\n",
    "print(Q2)\n",
    "print(\"\\nR:\")\n",
    "print(R2)"
   ]
  },
  {
   "cell_type": "markdown",
   "id": "699ce7a1",
   "metadata": {},
   "source": [
    "The QR factorization can be computed in $\\mathcal{O}(2nd^2)$ operations with Gram-Schmidt orthogonalization.\n",
    "\n",
    "```{exercise}\n",
    "Verify the complexity of the algorithm using the following function.\n",
    "```"
   ]
  },
  {
   "cell_type": "code",
   "execution_count": 7,
   "id": "487f90a4",
   "metadata": {},
   "outputs": [],
   "source": [
    "import time\n",
    "\n",
    "\n",
    "def computation_time(n, d):\n",
    "    exec_time = []\n",
    "    for i in n:\n",
    "        for j in d:\n",
    "            A = np.random.rand(i, j)\n",
    "            t0 = time.time()\n",
    "            QR_factorization(A)\n",
    "            t1 = time.time()\n",
    "            exec_time.append(t1 - t0)\n",
    "    return exec_time"
   ]
  },
  {
   "cell_type": "code",
   "execution_count": 8,
   "id": "68612d30-9e94-49ae-999b-ab7001510f91",
   "metadata": {},
   "outputs": [
    {
     "data": {
      "image/png": "[encoded data removed]",
      "text/plain": [
       "<Figure size 1200x600 with 2 Axes>"
      ]
     },
     "metadata": {},
     "output_type": "display_data"
    }
   ],
   "source": [
    "#exercice 4\n",
    "\n",
    "# 1st graph: n = 1000\n",
    "n_fixe = [1000]\n",
    "d_values = np.arange(100, 901, 10)\n",
    "time_fixed_n = computation_time(n_fixe, d_values)\n",
    "\n",
    "# 2nd graph: d = 100\n",
    "d_fixe = [100]\n",
    "n_values = np.arange(1000, 5001, 50)\n",
    "time_fixed_d = computation_time(n_values, d_fixe)\n",
    "\n",
    "\n",
    "plt.figure(figsize=(12, 6))\n",
    "\n",
    "plt.subplot(1, 2, 1)\n",
    "plt.plot(d_values, time_fixed_n)\n",
    "plt.xscale('log')\n",
    "plt.yscale('log')\n",
    "plt.xlabel('d [log scale]')\n",
    "plt.ylabel('Computation Time')\n",
    "plt.title('n = 1000, d varies ')\n",
    "\n",
    "\n",
    "plt.subplot(1, 2, 2)\n",
    "plt.plot(n_values, time_fixed_d)\n",
    "plt.xscale('log')\n",
    "plt.yscale('log')\n",
    "plt.xlabel('n [log scale]')\n",
    "plt.ylabel('Computation Time')\n",
    "plt.title('d = 100, n varies')\n",
    "\n",
    "plt.tight_layout()\n",
    "plt.show()"
   ]
  },
  {
   "cell_type": "markdown",
   "id": "bd18a6f3-35c4-4be7-a064-ee3787e68a8a",
   "metadata": {},
   "source": [
    "### Comment on Exercise 4:\n",
    "### Analysis of the Results\n",
    "\n",
    "On the **left graph**, the curve appears to follow a **linear relationship** with $log(d)$. Additionally, without the log scale, the relationship is quadratic with $d$. These results are consistent with the theoretical complexity $O(2n d^2)$.\n",
    "\n",
    "On the **right graph**, a **linear relationship** with $log(n)$ is also observed, which is similarly consistent.\n",
    "\n"
   ]
  },
  {
   "cell_type": "markdown",
   "id": "d5970ddd",
   "metadata": {
    "lines_to_next_cell": 2
   },
   "source": [
    "We can now solve the normal equations via\n",
    "\n",
    "$$\n",
    "R\\bm{w} = Q^T\\bm{y}.\n",
    "$$\n",
    "\n",
    "Since $R$ is an upper-triangular matrix, we can compute $\\bm{w}$ using back substitution. The function below is a step-by-step solution for solving linear least sqaures with QR factorization (refer to *Algorithm 1* in the first lecture)."
   ]
  },
  {
   "cell_type": "code",
   "execution_count": 9,
   "id": "84d068a2",
   "metadata": {
    "scrolled": true
   },
   "outputs": [
    {
     "name": "stdout",
     "output_type": "stream",
     "text": [
      "9.483632695622603e-15\n"
     ]
    }
   ],
   "source": [
    "def solve_linear_least_squares(X, y):\n",
    "    Q, R = QR_factorization(X)\n",
    "    b = Q.T @ y\n",
    "    w = np.empty(X.shape[1])\n",
    "    for i in range(X.shape[1] - 1, -1, -1):\n",
    "        w[i] = (b[i] - np.sum(w[i + 1 :] * R[i, i + 1 :])) / R[i, i]\n",
    "    return w\n",
    "\n",
    "\n",
    "def solve_linear_least_squares_np(X, y):  # implementation with built-in numpy functions\n",
    "    Q, R = np.linalg.qr(X)\n",
    "    w = np.linalg.solve(R, Q.T @ y)\n",
    "    return w\n",
    "\n",
    "\n",
    "X = np.random.rand(1000, 100)\n",
    "y = np.ones(1000)\n",
    "w = solve_linear_least_squares(X, y)\n",
    "w_np = solve_linear_least_squares_np(X, y)\n",
    "print(np.linalg.norm(w - w_np))"
   ]
  },
  {
   "cell_type": "markdown",
   "id": "2d4b372b",
   "metadata": {},
   "source": [
    "The supervised learning problem can now be solved using the previous function. Next, we will examine the robustness of this algorithm in determining the optimal weights for the datasets under consideration."
   ]
  },
  {
   "cell_type": "code",
   "execution_count": 10,
   "id": "a539d286",
   "metadata": {
    "scrolled": true
   },
   "outputs": [
    {
     "data": {
      "application/vnd.jupyter.widget-view+json": {
       "model_id": "07895827716841eb87bbb82b536be375",
       "version_major": 2,
       "version_minor": 0
      },
      "text/plain": [
       "VBox(children=(Dropdown(description='Data set', options=('linear', 'logist', 'sphere', 'normal'), value='linea…"
      ]
     },
     "execution_count": 10,
     "metadata": {},
     "output_type": "execute_result"
    }
   ],
   "source": [
    "from plot_dataset import create_plot_error_container\n",
    "\n",
    "create_plot_error_container(get_dataset, solve_linear_least_squares)"
   ]
  },
  {
   "cell_type": "markdown",
   "id": "a99398d9",
   "metadata": {},
   "source": [
    "```{exercise}\n",
    "What do you observe? Comment.\n",
    "```"
   ]
  },
  {
   "cell_type": "markdown",
   "id": "2c6dc4cd-f681-40a7-b05b-2ec5cffdf0c0",
   "metadata": {},
   "source": [
    "### Comments on exercice 5:\n",
    "\n",
    "1. **Linear Dataset**:  \n",
    "   - As the perturbation increases, the error grows steadily. Thus, the algorithm is sensitive to data perturbation.\n",
    "\n",
    "2. **Logistic, Spherical and Normal Datasets**:  \n",
    "   - The error remains constant despite the perturbation of the data. It may signifies that the algorithm is robust for these datasets, as the perturbations have minimal impact.\n"
   ]
  },
  {
   "cell_type": "markdown",
   "id": "726a0c10",
   "metadata": {},
   "source": [
    "# 2 Nonlinear least squares\n",
    "\n",
    "In the previous section, we explored how to solve a linear regression problem. We found that the solution works well for linear data but fails for nonlinear data. To achieve good results with nonlinear data, an additional step is necessary.\n",
    "\n",
    "Various methods exist to solve nonlinear regression problems. We compare two of them:\n",
    "\n",
    "- Gauss-Newton's method with QR factorization;\n",
    "- Newton's method.\n",
    "\n",
    "Both methods aim to minimize\n",
    "\n",
    "$$\n",
    "\\Vert\\hat{\\bm{y}}(\\bm{w}) - \\bm{y}\\Vert_2^2 \\qquad \\text{where} \\qquad \\hat{\\bm{y}}(\\bm{w}) = (\\hat{f}(\\bm{x}_1;\\bm{w}),\\ldots,\\hat{f}(\\bm{x}_n;\\bm{w}))^T,\n",
    "$$\n",
    "\n",
    "for some function model $\\hat{f}$. We start with Gauss-Newton's method with QR factorization."
   ]
  },
  {
   "cell_type": "markdown",
   "id": "415c0427",
   "metadata": {
    "lines_to_next_cell": 2
   },
   "source": [
    "## 2.1 Gauss-Newton's method with QR\n",
    "\n",
    "```{prf:algorithm}Gauss-Newton's method with QR\n",
    "\n",
    "**Inputs**\n",
    "\n",
    "- $\\hat{f}$: the function model.\n",
    "- $J$: the Jacobian of $\\hat{f}$ with respect to $\\bm{w}$.\n",
    "- $\\{\\bm{x}_i,y_i\\}_{i=1}^n$: the data points.\n",
    "- $\\bm{w^0}$: the initial guess.\n",
    "\n",
    "**Output** The optimal weights $\\bm{w}$.\n",
    "\n",
    "**Steps**\n",
    "\n",
    "1. Compute the Jacobian $J^k=J(\\bm{w}^k)$ and evaluate the prediction $\\hat{\\bm{y}}(\\bm{w}^k)$.\n",
    "2. Compute the vector $\\bm{r}^k = \\hat{\\bm{y}}(\\bm{w}^k) - \\bm{y}$ .\n",
    "2. Solve the linearized normal equations $(J^k)^TJ^k\\bm{s}^k=−(J^k)^T\\bm{r}^k$ using QR decomposition.\n",
    "3. Update $\\bm{w}^{k+1} = \\bm{w}^k + \\bm{s}^k$.\n",
    "4. Repeat until convergence.\n",
    "```\n",
    "\n",
    "```{exercise}\n",
    "Complete the following routine to implement Gauss-Newton's method with QR decomposition.\n",
    "```"
   ]
  },
  {
   "cell_type": "code",
   "execution_count": 11,
   "id": "d1d35267",
   "metadata": {},
   "outputs": [],
   "source": [
    "def gauss_newton(fhat, Jacobian, X, y, w0, *, tol=1e-6, maxit=100, verbose=False):\n",
    "    w = w0\n",
    "    for it in range(maxit):\n",
    "        J = Jacobian(X, w)\n",
    "        yhat = fhat(X, w)\n",
    "        # Part to code\n",
    "        r=yhat-y\n",
    "        s=solve_linear_least_squares(J, -r)\n",
    "        # End part to code\n",
    "        w += s\n",
    "        error = np.square(fhat(X, w) - y).mean()\n",
    "        if verbose:\n",
    "            print(f\"iteration {it}: error = {error}\")\n",
    "        if error < tol or np.linalg.norm(s) < tol:\n",
    "            break\n",
    "    return w, it"
   ]
  },
  {
   "cell_type": "markdown",
   "id": "f0eb4002",
   "metadata": {},
   "source": [
    "As you have noticed, you have to give the function and the Jacobian to the solve nonlinear least squares problem. We choose the logistic data set and the logistic function as a model."
   ]
  },
  {
   "cell_type": "code",
   "execution_count": 12,
   "id": "b6e6d1ec",
   "metadata": {},
   "outputs": [],
   "source": [
    "dataset = \"logist\"\n",
    "eta = 1e-2\n",
    "n = 1000\n",
    "d = 100\n",
    "X, y = get_dataset(dataset, n, d, eta)\n",
    "fhat = lambda X, w: 1 / (1 + np.exp(-X @ w))"
   ]
  },
  {
   "cell_type": "markdown",
   "id": "8cb3ece3",
   "metadata": {},
   "source": [
    "```{exercise}\n",
    "Compute the Jacobian and perform *Algorithm 2*.\n",
    "```"
   ]
  },
  {
   "cell_type": "code",
   "execution_count": 13,
   "id": "e2cd1596-30a3-4509-9671-fd55063d8260",
   "metadata": {
    "lines_to_next_cell": 2
   },
   "outputs": [
    {
     "name": "stdout",
     "output_type": "stream",
     "text": [
      "Error (least squares):\n",
      "2.5945257076044608e-05\n"
     ]
    }
   ],
   "source": [
    "#exercice 7\n",
    "def Jacobian_log(X, w):\n",
    "    f=fhat(X,w)\n",
    "    return (f*(1-f))[:, np.newaxis] * X\n",
    "\n",
    "w0 = 1e-2*np.random.randn(d)\n",
    "w, iterations = gauss_newton(fhat, Jacobian_log, X, y, w0, tol=1e-6, maxit=100, verbose=False)\n",
    "\n",
    "yhat= fhat(X, w)\n",
    "\n",
    "# Error using least squares\n",
    "error = np.square(yhat-y).mean()\n",
    "\n",
    "print(\"Error (least squares):\")\n",
    "print(error)"
   ]
  },
  {
   "cell_type": "markdown",
   "id": "e8b044d5",
   "metadata": {
    "lines_to_next_cell": 2
   },
   "source": [
    "## 2.2 Newton's method\n",
    "\n",
    "We continue with Newton's method. We recall that Newton's method for minimizing $\\mathcal{E}_T(\\bm{w})=\\Vert\\hat{\\bm{y}}(\\bm{w}) - \\bm{y}\\Vert_2^2$ tries to solve $\\bm{g}(\\bm{w})=0$, where\n",
    "\n",
    "$$\n",
    "\\bm{g}(\\bm{w}) = J^T(\\bm{w})r(\\bm{w}), \\qquad \\bm{r}(\\bm{w}) = \\hat{\\bm{y}}(\\bm{w}) - \\bm{y},\n",
    "$$\n",
    "\n",
    "is the gradient of $\\mathcal{E}_T(\\bm{w})$ (up to a scaling factor). To do so, it uses the Hessian matrix $H$ of $\\mathcal{E}_T(\\bm{w})$.\n",
    "\n",
    "```{prf:algorithm}Newton's method\n",
    "\n",
    "**Inputs**\n",
    "\n",
    "- $\\hat{f}$: the function model.\n",
    "- $\\bm{g}$: the gradient of $\\mathcal{E}_T(\\bm{w})$ with respect to $\\bm{w}$.\n",
    "- $H$: the Hessian of $\\mathcal{E}_T(\\bm{w})$ with respect to $\\bm{w}$.\n",
    "- $\\{\\bm{x}_i,y_i\\}_{i=1}^n$: the data points.\n",
    "- $\\bm{w^0}$: the initial guess.\n",
    "\n",
    "**Output** The optimal weights $\\bm{w}$.\n",
    "\n",
    "**Steps**\n",
    "\n",
    "1. Compute the gradient $\\bm{g}^k=\\bm{g}(\\bm{w}^k)$ and the Hessian $H^k=H(\\bm{w}^k)$.\n",
    "2. Solve $H^k\\bm{s}^k=−\\bm{g}^k$.\n",
    "3. Update $\\bm{w}^{k+1} = \\bm{w}^k + \\bm{s}^k$.\n",
    "4. Repeat until convergence.\n",
    "```\n",
    "\n",
    "```{exercise}\n",
    "Complete the following routine to implement Newton's method.\n",
    "```"
   ]
  },
  {
   "cell_type": "code",
   "execution_count": 14,
   "id": "d04c7d81",
   "metadata": {},
   "outputs": [],
   "source": [
    "def newton(fhat, gradient, Hessian, X, y, w0, *, tol=1e-6, maxit=200, verbose=False):\n",
    "    w = w0\n",
    "    for it in range(maxit):\n",
    "        g = gradient(X, y, w)\n",
    "        H = Hessian(X, y, w)\n",
    "        # Part to code\n",
    "        s = solve_linear_least_squares(H, -g)\n",
    "        # End part to code\n",
    "        w += s\n",
    "        error = np.square(fhat(X, w) - y).mean()\n",
    "        if verbose:\n",
    "            print(f\"iteration {it}: error = {error}\")\n",
    "        if error < tol or np.linalg.norm(s) < tol:\n",
    "            break\n",
    "    return w, it"
   ]
  },
  {
   "cell_type": "markdown",
   "id": "b0bb6160",
   "metadata": {},
   "source": [
    "Here, you have to provide the gradient and the Hessian matrix."
   ]
  },
  {
   "cell_type": "markdown",
   "id": "8f4b95df",
   "metadata": {},
   "source": [
    "```{exercise}\n",
    "Compute the gradient and the Hessian matrix and perform *Algorithm 3*. Comment.\n",
    "```"
   ]
  },
  {
   "cell_type": "code",
   "execution_count": 15,
   "id": "bf506874-8aae-49c9-ac91-ad41e279601c",
   "metadata": {},
   "outputs": [
    {
     "name": "stdout",
     "output_type": "stream",
     "text": [
      "iteration 0: error = 0.057793973239421245\n",
      "iteration 1: error = 0.029092928789258187\n",
      "iteration 2: error = 0.013754076616000746\n",
      "iteration 3: error = 0.005954818272571133\n",
      "iteration 4: error = 0.00233671355364229\n",
      "iteration 5: error = 0.0008100314018515915\n",
      "iteration 6: error = 0.00025669613293492213\n",
      "iteration 7: error = 8.206452846230388e-05\n",
      "iteration 8: error = 3.4166890933044636e-05\n",
      "iteration 9: error = 2.637627291512034e-05\n",
      "iteration 10: error = 2.5947613896783178e-05\n",
      "iteration 11: error = 2.5945257177559332e-05\n",
      "iteration 12: error = 2.5945257076044615e-05\n",
      "iteration 13: error = 2.59452570760446e-05\n",
      "Error with Newton's method:\n",
      "2.59452570760446e-05\n"
     ]
    }
   ],
   "source": [
    "def gradient(X, y, w):\n",
    "    yhat=fhat(X, w)\n",
    "    r=yhat-y\n",
    "    return Jacobian_log(X,w).T@r\n",
    "\n",
    "def hessian_log_i(x_i, f_i): #Ici, on retourne la contribution Hessienne pour l'échantillon i, utilisé dans la fonction suivante\n",
    "    val = (1.0 - 2.0*f_i) * f_i * (1.0 - f_i)\n",
    "    return val * np.outer(x_i, x_i)\n",
    "\n",
    "def Hessian(X, y, w): #La Hessienne vaut J(X,w)^T J(X,w) + somme_i [r[i] * Hessian_log_i(x_i,f_i)].\n",
    "    # Premier terme\n",
    "    H1 = Jacobian_log(X, w).T @ Jacobian_log(X, w)\n",
    "    # Deuxième terme\n",
    "    r = fhat(X, w) - y\n",
    "    f = fhat(X, w)\n",
    "    d = X.shape[1]\n",
    "    H2 = np.zeros((d, d))\n",
    "    for i in range(len(r)):\n",
    "        H_i = hessian_log_i(X[i], f[i])  # matrice (d, d)\n",
    "        H2 += r[i] * H_i\n",
    "        \n",
    "    return H1 + H2\n",
    "\n",
    "\n",
    "w0 = 1e-2 * np.random.randn(d)\n",
    "\n",
    "w_newton, iterations = newton(fhat, gradient, Hessian, X, y, w0, tol=1e-6, maxit=100, verbose=True)\n",
    "\n",
    "# Newton's weights\n",
    "yhat_newton = fhat(X, w_newton)\n",
    "\n",
    "# Error using least squares\n",
    "error_newton = np.square(yhat_newton-y).mean()\n",
    "\n",
    "print(\"Error with Newton's method:\")\n",
    "print(error_newton)"
   ]
  },
  {
   "cell_type": "markdown",
   "id": "4d94891b",
   "metadata": {},
   "source": [
    "The number of iterations may be high because the Hessian matrix is not always positive definite away from a minimum. One way to address this, which results in a method equivalent to Gauss-Newton’s method, is to replace to replace $H$ by $J^TJ$."
   ]
  },
  {
   "cell_type": "markdown",
   "id": "a5ea45e2",
   "metadata": {},
   "source": [
    "```{exercise}\n",
    "Use $J^TJ$ instead of $H$ and perform *Algorithm 3* again. What do you observe?\n",
    "```"
   ]
  },
  {
   "cell_type": "code",
   "execution_count": 16,
   "id": "38199070-f953-4480-a470-10ad6060e76d",
   "metadata": {},
   "outputs": [
    {
     "name": "stdout",
     "output_type": "stream",
     "text": [
      "iteration 0: error = 0.05823584941614584\n",
      "iteration 1: error = 0.019846259315414533\n",
      "iteration 2: error = 0.005297102991387561\n",
      "iteration 3: error = 0.0010515248603700832\n",
      "iteration 4: error = 0.00015351165464161658\n",
      "iteration 5: error = 3.39280098098536e-05\n",
      "iteration 6: error = 2.606300314548084e-05\n",
      "iteration 7: error = 2.594576753699216e-05\n",
      "iteration 8: error = 2.5945259099756475e-05\n",
      "iteration 9: error = 2.5945257084650466e-05\n",
      "iteration 10: error = 2.5945257076083612e-05\n",
      "iteration 11: error = 2.5945257076044795e-05\n",
      "iteration 12: error = 2.5945257076044564e-05\n",
      "Error with Newton's method and with the Hessian matrix replaced:\n",
      "2.5945257076044564e-05\n"
     ]
    }
   ],
   "source": [
    "def App_Hessian(X, y, w):\n",
    "    J = Jacobian_log(X, w)\n",
    "    return J.T @ J     # Approximation\n",
    "    \n",
    "w0 = 1e-2 * np.random.randn(d)\n",
    "w_newton2, iterations2 = newton(fhat, gradient, App_Hessian, X, y, w0, tol=1e-6, maxit=100, verbose=True)\n",
    "\n",
    "\n",
    "yhat_newton2 = fhat(X, w_newton2)\n",
    "\n",
    "# Error using least squares\n",
    "error_newton2 =np.square(yhat_newton2-y).mean()\n",
    "\n",
    "print(\"Error with Newton's method and with the Hessian matrix replaced:\")\n",
    "print(error_newton2)"
   ]
  },
  {
   "cell_type": "markdown",
   "id": "a42fa0c7-c519-4eee-a40d-1410faf83810",
   "metadata": {},
   "source": [
    "**Observation:**\n",
    "The error obtained in this exercise is the same as the one obtained when we performed Algorithm 2. In fact, we have that the Gauss-Newton's method corresponds o Newton's method where the Hessian $H^k$ at step $k$ has been replaced by $(J^k)^TJ^k$\n",
    "Moreover it takes (one) less iterations than when directly using $H$."
   ]
  },
  {
   "cell_type": "markdown",
   "id": "482bb87c",
   "metadata": {},
   "source": [
    "# Conclusion\n",
    "\n",
    "When the data is (nearly) linear, linear regression using linear least squares and QR decomposition is the most effective approach. For nonlinear data where we have some understanding of the true underlying function, nonlinear regression with a carefully chosen model can be used. However, when the function is completely unknown, we will explore the use of neural networks in the next PC. For instance, nonlinear regression with logistic function does not perform well on \"sphere\" data and fails for \"normal\" data."
   ]
  },
  {
   "cell_type": "code",
   "execution_count": 17,
   "id": "67387a09",
   "metadata": {},
   "outputs": [
    {
     "name": "stdout",
     "output_type": "stream",
     "text": [
      "[-0.04125436 -0.09032586 -0.00654228  0.15798904  0.04365267  0.06625489\n",
      "  0.13028769 -0.02005593  0.03354314 -0.09289386 -0.04255865 -0.09370485\n",
      "  0.00889419 -0.18027246  0.14255257 -0.02892015 -0.2030233   0.12408913\n",
      " -0.03136466  0.10742246 -0.0685417   0.03159831  0.0776038   0.05617896\n",
      " -0.03516655  0.01376464 -0.1141333  -0.09054269  0.02484631 -0.15018253\n",
      " -0.01048494 -0.13388431 -0.0504962   0.10345261 -0.14098211  0.04848178\n",
      "  0.04940001 -0.13342587 -0.13365509 -0.04460418  0.07397774 -0.00183807\n",
      "  0.11721731  0.11324425 -0.28005628  0.15180695  0.01443722  0.09076077\n",
      "  0.05637926 -0.05395243 -0.01197667  0.04903486 -0.00217875  0.13192799\n",
      "  0.03894031  0.07374553 -0.08708883 -0.24112099 -0.13338292  0.05325971\n",
      " -0.0080364  -0.27423602  0.12885747 -0.17562712  0.05469376  0.02402906\n",
      "  0.03987411 -0.13999207 -0.0345372  -0.015316   -0.12803402  0.01424529\n",
      " -0.12381287 -0.13304584  0.23311308  0.05892261  0.07025209 -0.01286274\n",
      "  0.07248622 -0.06789787 -0.08098027  0.01060086  0.03345074 -0.13542571\n",
      " -0.08951793  0.01759099  0.10957994  0.00300799  0.00380713  0.02784864\n",
      " -0.10954169 -0.10418282  0.19445594  0.1295388  -0.05716489  0.23222276\n",
      "  0.03572014  0.06117098 -0.04232557  0.24283487]\n",
      "0.13152395991234256 10\n"
     ]
    },
    {
     "name": "stderr",
     "output_type": "stream",
     "text": [
      "/tmp/ipykernel_117/4153177098.py:6: RuntimeWarning:\n",
      "\n",
      "overflow encountered in exp\n",
      "\n",
      "/tmp/ipykernel_117/1772461505.py:7: RuntimeWarning:\n",
      "\n",
      "divide by zero encountered in divide\n",
      "\n",
      "/tmp/ipykernel_117/1772461505.py:7: RuntimeWarning:\n",
      "\n",
      "invalid value encountered in divide\n",
      "\n"
     ]
    },
    {
     "name": "stdout",
     "output_type": "stream",
     "text": [
      "[nan nan nan nan nan nan nan nan nan nan nan nan nan nan nan nan nan nan\n",
      " nan nan nan nan nan nan nan nan nan nan nan nan nan nan nan nan nan nan\n",
      " nan nan nan nan nan nan nan nan nan nan nan nan nan nan nan nan nan nan\n",
      " nan nan nan nan nan nan nan nan nan nan nan nan nan nan nan nan nan nan\n",
      " nan nan nan nan nan nan nan nan nan nan nan nan nan nan nan nan nan nan\n",
      " nan nan nan nan nan nan nan nan nan nan]\n",
      "nan 99\n"
     ]
    }
   ],
   "source": [
    "dataset = \"sphere\"\n",
    "eta = 1e-2\n",
    "n = 1000\n",
    "d = 100\n",
    "X, y = get_dataset(dataset, n, d, eta)\n",
    "fhat = lambda X, w: 1 / (1 + np.exp(-X @ w))\n",
    "J = lambda X, w: (fhat(X, w) * (1 - fhat(X, w)))[:, np.newaxis] * X\n",
    "w0 = 1e-2 * np.random.rand(d)\n",
    "w, it = gauss_newton(fhat, J, X, y, w0, verbose=False)\n",
    "print(w)\n",
    "print(np.square(fhat(X, w) - y).mean(), it)\n",
    "\n",
    "dataset = \"normal\"\n",
    "eta = 1e-2\n",
    "n = 1000\n",
    "d = 100\n",
    "X, y = get_dataset(dataset, n, d, eta)\n",
    "w, it = gauss_newton(fhat, J, X, y, w0, verbose=False)\n",
    "print(w)\n",
    "print(np.square(fhat(X, w) - y).mean(), it)"
   ]
  },
  {
   "cell_type": "code",
   "execution_count": null,
   "id": "8b5ca69f-c7fc-43fe-ab44-eb343968e99f",
   "metadata": {},
   "outputs": [],
   "source": []
  }
 ],
 "metadata": {
  "jupytext": {
   "custom_cell_magics": "kql",
   "encoding": "# -*- coding: utf-8 -*-",
   "formats": "ipynb,py:percent"
  },
  "kernelspec": {
   "display_name": "Python 3 (ipykernel)",
   "language": "python",
   "name": "python3"
  },
  "language_info": {
   "codemirror_mode": {
    "name": "ipython",
    "version": 3
   },
   "file_extension": ".py",
   "mimetype": "text/x-python",
   "name": "python",
   "nbconvert_exporter": "python",
   "pygments_lexer": "ipython3",
   "version": "3.10.8"
  }
 },
 "nbformat": 4,
 "nbformat_minor": 5
}
